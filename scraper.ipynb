{
 "cells": [
  {
   "cell_type": "code",
   "execution_count": 1,
   "metadata": {},
   "outputs": [],
   "source": [
    "from bs4 import BeautifulSoup\n",
    "import requests\n",
    "import pandas as pd\n",
    "import re"
   ]
  },
  {
   "cell_type": "code",
   "execution_count": 2,
   "metadata": {},
   "outputs": [],
   "source": [
    "def get_fortune_cookies(num_tries=10):\n",
    "    \n",
    "    fortune_df = []\n",
    "    \n",
    "    for num in range(num_tries):\n",
    "        \n",
    "        try:\n",
    "            \n",
    "            web = 'http://www.fortunecookiemessage.com/'\n",
    "            page = requests.get(web)\n",
    "            soup = BeautifulSoup(page.text, 'html.parser')\n",
    "            \n",
    "            fortune = soup.find('a', class_='cookie-link')\n",
    "            \n",
    "            cookie = soup.find('a', class_='cookie-link').get_text(strip=True)\n",
    "            cookie = re.sub(r'[^\\w\\s]', '', cookie)\n",
    "            \n",
    "            fortune_df.append(cookie)\n",
    "            \n",
    "            \n",
    "        except:\n",
    "            continue\n",
    "    \n",
    "    return set(fortune_df)\n",
    "            "
   ]
  },
  {
   "cell_type": "code",
   "execution_count": 3,
   "metadata": {},
   "outputs": [
    {
     "name": "stdout",
     "output_type": "stream",
     "text": [
      "Wall time: 2h 42min 22s\n"
     ]
    }
   ],
   "source": [
    "%%time\n",
    "cookies = get_fortune_cookies(100000)\n"
   ]
  },
  {
   "cell_type": "code",
   "execution_count": 4,
   "metadata": {},
   "outputs": [],
   "source": [
    "df = pd.DataFrame(cookies,columns=['fortune'])"
   ]
  },
  {
   "cell_type": "code",
   "execution_count": null,
   "metadata": {},
   "outputs": [],
   "source": []
  },
  {
   "cell_type": "code",
   "execution_count": null,
   "metadata": {},
   "outputs": [],
   "source": []
  },
  {
   "cell_type": "code",
   "execution_count": 5,
   "metadata": {},
   "outputs": [],
   "source": [
    "df.to_csv('fortune_cookies_df.csv', index=False)"
   ]
  },
  {
   "cell_type": "code",
   "execution_count": 7,
   "metadata": {},
   "outputs": [
    {
     "data": {
      "text/html": [
       "<div>\n",
       "<style scoped>\n",
       "    .dataframe tbody tr th:only-of-type {\n",
       "        vertical-align: middle;\n",
       "    }\n",
       "\n",
       "    .dataframe tbody tr th {\n",
       "        vertical-align: top;\n",
       "    }\n",
       "\n",
       "    .dataframe thead th {\n",
       "        text-align: right;\n",
       "    }\n",
       "</style>\n",
       "<table border=\"1\" class=\"dataframe\">\n",
       "  <thead>\n",
       "    <tr style=\"text-align: right;\">\n",
       "      <th></th>\n",
       "      <th>fortune</th>\n",
       "    </tr>\n",
       "  </thead>\n",
       "  <tbody>\n",
       "    <tr>\n",
       "      <td>0</td>\n",
       "      <td>Enjoy the good luck a companion brings you</td>\n",
       "    </tr>\n",
       "    <tr>\n",
       "      <td>1</td>\n",
       "      <td>Your life will be filled with magical moments</td>\n",
       "    </tr>\n",
       "    <tr>\n",
       "      <td>2</td>\n",
       "      <td>Action speaks nothing without the Motive</td>\n",
       "    </tr>\n",
       "    <tr>\n",
       "      <td>3</td>\n",
       "      <td>Change your thoughts and you change the world</td>\n",
       "    </tr>\n",
       "    <tr>\n",
       "      <td>4</td>\n",
       "      <td>Never give up Always find a reason to keep trying</td>\n",
       "    </tr>\n",
       "    <tr>\n",
       "      <td>...</td>\n",
       "      <td>...</td>\n",
       "    </tr>\n",
       "    <tr>\n",
       "      <td>821</td>\n",
       "      <td>The secret of staying young is good health and...</td>\n",
       "    </tr>\n",
       "    <tr>\n",
       "      <td>822</td>\n",
       "      <td>You believe in the goodness of mankind</td>\n",
       "    </tr>\n",
       "    <tr>\n",
       "      <td>823</td>\n",
       "      <td>Being happy is not always being perfect</td>\n",
       "    </tr>\n",
       "    <tr>\n",
       "      <td>824</td>\n",
       "      <td>Dont take yourself so seriously no one else does</td>\n",
       "    </tr>\n",
       "    <tr>\n",
       "      <td>825</td>\n",
       "      <td>Life  always gets harder near the summit</td>\n",
       "    </tr>\n",
       "  </tbody>\n",
       "</table>\n",
       "<p>826 rows × 1 columns</p>\n",
       "</div>"
      ],
      "text/plain": [
       "                                               fortune\n",
       "0           Enjoy the good luck a companion brings you\n",
       "1        Your life will be filled with magical moments\n",
       "2             Action speaks nothing without the Motive\n",
       "3        Change your thoughts and you change the world\n",
       "4    Never give up Always find a reason to keep trying\n",
       "..                                                 ...\n",
       "821  The secret of staying young is good health and...\n",
       "822             You believe in the goodness of mankind\n",
       "823            Being happy is not always being perfect\n",
       "824   Dont take yourself so seriously no one else does\n",
       "825           Life  always gets harder near the summit\n",
       "\n",
       "[826 rows x 1 columns]"
      ]
     },
     "execution_count": 7,
     "metadata": {},
     "output_type": "execute_result"
    }
   ],
   "source": [
    "df"
   ]
  },
  {
   "cell_type": "code",
   "execution_count": null,
   "metadata": {},
   "outputs": [],
   "source": []
  }
 ],
 "metadata": {
  "kernelspec": {
   "display_name": "Python [conda env:learn-env] *",
   "language": "python",
   "name": "conda-env-learn-env-py"
  },
  "language_info": {
   "codemirror_mode": {
    "name": "ipython",
    "version": 3
   },
   "file_extension": ".py",
   "mimetype": "text/x-python",
   "name": "python",
   "nbconvert_exporter": "python",
   "pygments_lexer": "ipython3",
   "version": "3.6.9"
  }
 },
 "nbformat": 4,
 "nbformat_minor": 2
}
